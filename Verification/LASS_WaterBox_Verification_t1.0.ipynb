{
 "cells": [
  {
   "cell_type": "markdown",
   "metadata": {},
   "source": [
    "# 相關性比對\n"
   ]
  },
  {
   "cell_type": "code",
   "execution_count": 1,
   "metadata": {},
   "outputs": [],
   "source": [
    "# 做完特徵工程前的所有準備\n",
    "import numpy as np\n",
    "import pandas as pd\n",
    "import matplotlib.pyplot as plt\n",
    "%matplotlib inline\n",
    "\n",
    "data_path = './'"
   ]
  },
  {
   "cell_type": "code",
   "execution_count": 2,
   "metadata": {},
   "outputs": [],
   "source": [
    "# 欄位格式\n",
    "CSV_head = ['Date','Time','Turbidity','Conductivity']"
   ]
  },
  {
   "cell_type": "markdown",
   "metadata": {},
   "source": [
    "## 處理C1的數據"
   ]
  },
  {
   "cell_type": "code",
   "execution_count": 3,
   "metadata": {},
   "outputs": [],
   "source": [
    "# 讀取CSV並合併資料\n",
    "df_C1 = pd.read_csv(data_path + 'C1_1120.CSV', names =CSV_head)\n",
    "df_temp = pd.read_csv(data_path + 'C1_1121.CSV', names =CSV_head)\n",
    "df_C1 = df_C1.append(df_temp, ignore_index=True)\n",
    "df_temp = pd.read_csv(data_path + 'C1_1122.CSV', names =CSV_head)\n",
    "df_C1 = df_C1.append(df_temp, ignore_index=True)\n",
    "# df_C1.info()"
   ]
  },
  {
   "cell_type": "code",
   "execution_count": 4,
   "metadata": {},
   "outputs": [
    {
     "data": {
      "text/html": [
       "<div>\n",
       "<style scoped>\n",
       "    .dataframe tbody tr th:only-of-type {\n",
       "        vertical-align: middle;\n",
       "    }\n",
       "\n",
       "    .dataframe tbody tr th {\n",
       "        vertical-align: top;\n",
       "    }\n",
       "\n",
       "    .dataframe thead th {\n",
       "        text-align: right;\n",
       "    }\n",
       "</style>\n",
       "<table border=\"1\" class=\"dataframe\">\n",
       "  <thead>\n",
       "    <tr style=\"text-align: right;\">\n",
       "      <th></th>\n",
       "      <th>Date</th>\n",
       "      <th>Time</th>\n",
       "      <th>Turbidity</th>\n",
       "      <th>Conductivity</th>\n",
       "    </tr>\n",
       "    <tr>\n",
       "      <th>Datetime</th>\n",
       "      <th></th>\n",
       "      <th></th>\n",
       "      <th></th>\n",
       "      <th></th>\n",
       "    </tr>\n",
       "  </thead>\n",
       "  <tbody>\n",
       "    <tr>\n",
       "      <th>2019-11-20 12:08:00</th>\n",
       "      <td>2019-11-20</td>\n",
       "      <td>12:08:00</td>\n",
       "      <td>459.08</td>\n",
       "      <td>1967.70</td>\n",
       "    </tr>\n",
       "    <tr>\n",
       "      <th>2019-11-20 12:08:00</th>\n",
       "      <td>2019-11-20</td>\n",
       "      <td>12:08:00</td>\n",
       "      <td>460.53</td>\n",
       "      <td>1968.95</td>\n",
       "    </tr>\n",
       "    <tr>\n",
       "      <th>2019-11-20 12:13:00</th>\n",
       "      <td>2019-11-20</td>\n",
       "      <td>12:13:00</td>\n",
       "      <td>459.80</td>\n",
       "      <td>1968.95</td>\n",
       "    </tr>\n",
       "    <tr>\n",
       "      <th>2019-11-20 12:18:00</th>\n",
       "      <td>2019-11-20</td>\n",
       "      <td>12:18:00</td>\n",
       "      <td>459.08</td>\n",
       "      <td>1968.32</td>\n",
       "    </tr>\n",
       "    <tr>\n",
       "      <th>2019-11-20 12:23:00</th>\n",
       "      <td>2019-11-20</td>\n",
       "      <td>12:23:00</td>\n",
       "      <td>459.08</td>\n",
       "      <td>1967.70</td>\n",
       "    </tr>\n",
       "    <tr>\n",
       "      <th>...</th>\n",
       "      <td>...</td>\n",
       "      <td>...</td>\n",
       "      <td>...</td>\n",
       "      <td>...</td>\n",
       "    </tr>\n",
       "    <tr>\n",
       "      <th>2019-11-22 17:59:00</th>\n",
       "      <td>2019-11-22</td>\n",
       "      <td>17:59:00</td>\n",
       "      <td>461.26</td>\n",
       "      <td>1969.57</td>\n",
       "    </tr>\n",
       "    <tr>\n",
       "      <th>2019-11-22 18:05:00</th>\n",
       "      <td>2019-11-22</td>\n",
       "      <td>18:05:00</td>\n",
       "      <td>461.99</td>\n",
       "      <td>1970.20</td>\n",
       "    </tr>\n",
       "    <tr>\n",
       "      <th>2019-11-22 18:10:00</th>\n",
       "      <td>2019-11-22</td>\n",
       "      <td>18:10:00</td>\n",
       "      <td>461.26</td>\n",
       "      <td>1969.57</td>\n",
       "    </tr>\n",
       "    <tr>\n",
       "      <th>2019-11-22 18:15:00</th>\n",
       "      <td>2019-11-22</td>\n",
       "      <td>18:15:00</td>\n",
       "      <td>461.99</td>\n",
       "      <td>1970.20</td>\n",
       "    </tr>\n",
       "    <tr>\n",
       "      <th>2019-11-22 18:20:00</th>\n",
       "      <td>2019-11-22</td>\n",
       "      <td>18:20:00</td>\n",
       "      <td>461.99</td>\n",
       "      <td>1970.20</td>\n",
       "    </tr>\n",
       "  </tbody>\n",
       "</table>\n",
       "<p>659 rows × 4 columns</p>\n",
       "</div>"
      ],
      "text/plain": [
       "                          Date      Time  Turbidity  Conductivity\n",
       "Datetime                                                         \n",
       "2019-11-20 12:08:00 2019-11-20  12:08:00     459.08       1967.70\n",
       "2019-11-20 12:08:00 2019-11-20  12:08:00     460.53       1968.95\n",
       "2019-11-20 12:13:00 2019-11-20  12:13:00     459.80       1968.95\n",
       "2019-11-20 12:18:00 2019-11-20  12:18:00     459.08       1968.32\n",
       "2019-11-20 12:23:00 2019-11-20  12:23:00     459.08       1967.70\n",
       "...                        ...       ...        ...           ...\n",
       "2019-11-22 17:59:00 2019-11-22  17:59:00     461.26       1969.57\n",
       "2019-11-22 18:05:00 2019-11-22  18:05:00     461.99       1970.20\n",
       "2019-11-22 18:10:00 2019-11-22  18:10:00     461.26       1969.57\n",
       "2019-11-22 18:15:00 2019-11-22  18:15:00     461.99       1970.20\n",
       "2019-11-22 18:20:00 2019-11-22  18:20:00     461.99       1970.20\n",
       "\n",
       "[659 rows x 4 columns]"
      ]
     },
     "execution_count": 4,
     "metadata": {},
     "output_type": "execute_result"
    }
   ],
   "source": [
    "# 把Date, Time的字串轉為DateTime格式，並合併創造一個DateTime的欄位\n",
    "# 格式轉換\n",
    "df_C1['Date'] = df_C1['Date'].astype(str)\n",
    "df_C1['Date']= pd.to_datetime(df_C1['Date'], format=\"%Y%m%d.0\")\n",
    "df_C1['Time']= pd.to_datetime(df_C1['Time'], format=\"%H:%M\")\n",
    "# 合併成DateTime欄位\n",
    "df_C1['Datetime_str'] = df_C1['Date'].dt.strftime('%Y-%m-%d')+ ' ' +df_C1['Time'].dt.strftime('%H:%M')\n",
    "df_C1['Datetime'] = pd.to_datetime(df_C1['Datetime_str'], format=\"%Y-%m-%d %H:%M\",errors ='coerce')\n",
    "df_C1['Time']= df_C1['Time'].dt.time\n",
    "df_C1 = df_C1.drop(['Datetime_str'], axis=1)\n",
    "\n",
    "df_C1.set_index('Datetime')\n",
    "# df_C1.info()\n",
    "# df_C1.head()"
   ]
  },
  {
   "cell_type": "code",
   "execution_count": 5,
   "metadata": {},
   "outputs": [
    {
     "data": {
      "image/png": "[encoded data removed]",
      "text/plain": [
       "<Figure size 432x288 with 1 Axes>"
      ]
     },
     "metadata": {
      "needs_background": "light"
     },
     "output_type": "display_data"
    }
   ],
   "source": [
    "# 先看一下導電度跟濁度的相關性\n",
    "plt.scatter(df_C1['Turbidity'],df_C1['Conductivity'])\n",
    "plt.show()\n"
   ]
  },
  {
   "cell_type": "code",
   "execution_count": 6,
   "metadata": {},
   "outputs": [
    {
     "name": "stdout",
     "output_type": "stream",
     "text": [
      "共有658筆資料\n"
     ]
    },
    {
     "name": "stderr",
     "output_type": "stream",
     "text": [
      "C:\\ProgramData\\Anaconda3\\lib\\site-packages\\pandas\\plotting\\_matplotlib\\converter.py:103: FutureWarning: Using an implicitly registered datetime converter for a matplotlib plotting method. The converter was registered by pandas on import. Future versions of pandas will require you to explicitly register matplotlib converters.\n",
      "\n",
      "To register the converters:\n",
      "\t>>> from pandas.plotting import register_matplotlib_converters\n",
      "\t>>> register_matplotlib_converters()\n",
      "  warnings.warn(msg, FutureWarning)\n"
     ]
    },
    {
     "data": {
      "text/plain": [
       "(737383.5055555556, 737385.7638888889)"
      ]
     },
     "execution_count": 6,
     "metadata": {},
     "output_type": "execute_result"
    },
    {
     "data": {
      "image/png": "[encoded data removed]",
      "text/plain": [
       "<Figure size 432x288 with 2 Axes>"
      ]
     },
     "metadata": {
      "needs_background": "light"
     },
     "output_type": "display_data"
    }
   ],
   "source": [
    "# 建立時間變化的曲線\n",
    "# 先算出有多少資料\n",
    "total = df_C1.shape[0]-1\n",
    "print(\"共有{}筆資料\".format(total))\n",
    "\n",
    "# 畫成時間變化的曲線\n",
    "fig, ax1 = plt.subplots()\n",
    "# 设置ax2的坐标轴与ax1共用x轴\n",
    "ax2 = ax1.twinx()\n",
    "\n",
    "L1 = ax1.scatter(df_C1['Datetime'],df_C1['Conductivity'],label='Conductivity', marker=\"o\", color='g')\n",
    "L2 = ax2.scatter(df_C1['Datetime'],df_C1['Turbidity'],label='Turbidity', marker=\"x\", color='r')\n",
    "\n",
    "ax1.set_ylabel('Conductivity', color='g')\n",
    "ax2.set_ylabel('Turbidity', color='r')\n",
    "\n",
    "plt.legend([L1,L2],[L1.get_label(),L2.get_label()])\n",
    "\n",
    "fig.autofmt_xdate()\n",
    "plt.xlim(df_C1['Datetime'][0],df_C1['Datetime'][total])"
   ]
  },
  {
   "cell_type": "markdown",
   "metadata": {},
   "source": [
    "## 處理C2的數據"
   ]
  },
  {
   "cell_type": "code",
   "execution_count": 7,
   "metadata": {},
   "outputs": [],
   "source": [
    "# 讀取CSV並合併資料\n",
    "df_C2 = pd.read_csv(data_path + 'C2_1120.CSV', names =CSV_head)\n",
    "df_temp = pd.read_csv(data_path + 'C2_1121.CSV', names =CSV_head)\n",
    "df_C2 = df_C2.append(df_temp, ignore_index=True)\n",
    "df_temp = pd.read_csv(data_path + 'C2_1122.CSV', names =CSV_head)\n",
    "df_C2 = df_C2.append(df_temp, ignore_index=True)\n",
    "# df_C1.info()"
   ]
  },
  {
   "cell_type": "code",
   "execution_count": 8,
   "metadata": {},
   "outputs": [
    {
     "data": {
      "text/html": [
       "<div>\n",
       "<style scoped>\n",
       "    .dataframe tbody tr th:only-of-type {\n",
       "        vertical-align: middle;\n",
       "    }\n",
       "\n",
       "    .dataframe tbody tr th {\n",
       "        vertical-align: top;\n",
       "    }\n",
       "\n",
       "    .dataframe thead th {\n",
       "        text-align: right;\n",
       "    }\n",
       "</style>\n",
       "<table border=\"1\" class=\"dataframe\">\n",
       "  <thead>\n",
       "    <tr style=\"text-align: right;\">\n",
       "      <th></th>\n",
       "      <th>Date</th>\n",
       "      <th>Time</th>\n",
       "      <th>Turbidity</th>\n",
       "      <th>Conductivity</th>\n",
       "    </tr>\n",
       "    <tr>\n",
       "      <th>Datetime</th>\n",
       "      <th></th>\n",
       "      <th></th>\n",
       "      <th></th>\n",
       "      <th></th>\n",
       "    </tr>\n",
       "  </thead>\n",
       "  <tbody>\n",
       "    <tr>\n",
       "      <th>2019-11-20 12:21:00</th>\n",
       "      <td>2019-11-20</td>\n",
       "      <td>12:21:00</td>\n",
       "      <td>473.19</td>\n",
       "      <td>1979.58</td>\n",
       "    </tr>\n",
       "    <tr>\n",
       "      <th>2019-11-20 12:26:00</th>\n",
       "      <td>2019-11-20</td>\n",
       "      <td>12:26:00</td>\n",
       "      <td>474.72</td>\n",
       "      <td>1980.83</td>\n",
       "    </tr>\n",
       "    <tr>\n",
       "      <th>2019-11-20 12:32:00</th>\n",
       "      <td>2019-11-20</td>\n",
       "      <td>12:32:00</td>\n",
       "      <td>474.72</td>\n",
       "      <td>1980.83</td>\n",
       "    </tr>\n",
       "    <tr>\n",
       "      <th>2019-11-20 12:37:00</th>\n",
       "      <td>2019-11-20</td>\n",
       "      <td>12:37:00</td>\n",
       "      <td>474.72</td>\n",
       "      <td>1980.83</td>\n",
       "    </tr>\n",
       "    <tr>\n",
       "      <th>2019-11-20 12:42:00</th>\n",
       "      <td>2019-11-20</td>\n",
       "      <td>12:42:00</td>\n",
       "      <td>474.72</td>\n",
       "      <td>1980.83</td>\n",
       "    </tr>\n",
       "    <tr>\n",
       "      <th>...</th>\n",
       "      <td>...</td>\n",
       "      <td>...</td>\n",
       "      <td>...</td>\n",
       "      <td>...</td>\n",
       "    </tr>\n",
       "    <tr>\n",
       "      <th>2019-11-22 23:34:00</th>\n",
       "      <td>2019-11-22</td>\n",
       "      <td>23:34:00</td>\n",
       "      <td>477.03</td>\n",
       "      <td>1982.70</td>\n",
       "    </tr>\n",
       "    <tr>\n",
       "      <th>2019-11-22 23:39:00</th>\n",
       "      <td>2019-11-22</td>\n",
       "      <td>23:39:00</td>\n",
       "      <td>477.03</td>\n",
       "      <td>1982.70</td>\n",
       "    </tr>\n",
       "    <tr>\n",
       "      <th>2019-11-22 23:45:00</th>\n",
       "      <td>2019-11-22</td>\n",
       "      <td>23:45:00</td>\n",
       "      <td>477.03</td>\n",
       "      <td>1982.70</td>\n",
       "    </tr>\n",
       "    <tr>\n",
       "      <th>2019-11-22 23:50:00</th>\n",
       "      <td>2019-11-22</td>\n",
       "      <td>23:50:00</td>\n",
       "      <td>477.03</td>\n",
       "      <td>1982.70</td>\n",
       "    </tr>\n",
       "    <tr>\n",
       "      <th>2019-11-22 23:55:00</th>\n",
       "      <td>2019-11-22</td>\n",
       "      <td>23:55:00</td>\n",
       "      <td>477.03</td>\n",
       "      <td>1982.70</td>\n",
       "    </tr>\n",
       "  </tbody>\n",
       "</table>\n",
       "<p>698 rows × 4 columns</p>\n",
       "</div>"
      ],
      "text/plain": [
       "                          Date      Time  Turbidity  Conductivity\n",
       "Datetime                                                         \n",
       "2019-11-20 12:21:00 2019-11-20  12:21:00     473.19       1979.58\n",
       "2019-11-20 12:26:00 2019-11-20  12:26:00     474.72       1980.83\n",
       "2019-11-20 12:32:00 2019-11-20  12:32:00     474.72       1980.83\n",
       "2019-11-20 12:37:00 2019-11-20  12:37:00     474.72       1980.83\n",
       "2019-11-20 12:42:00 2019-11-20  12:42:00     474.72       1980.83\n",
       "...                        ...       ...        ...           ...\n",
       "2019-11-22 23:34:00 2019-11-22  23:34:00     477.03       1982.70\n",
       "2019-11-22 23:39:00 2019-11-22  23:39:00     477.03       1982.70\n",
       "2019-11-22 23:45:00 2019-11-22  23:45:00     477.03       1982.70\n",
       "2019-11-22 23:50:00 2019-11-22  23:50:00     477.03       1982.70\n",
       "2019-11-22 23:55:00 2019-11-22  23:55:00     477.03       1982.70\n",
       "\n",
       "[698 rows x 4 columns]"
      ]
     },
     "execution_count": 8,
     "metadata": {},
     "output_type": "execute_result"
    }
   ],
   "source": [
    "# 把Date, Time的字串轉為DateTime格式，並合併創造一個DateTime的欄位\n",
    "# 格式轉換\n",
    "df_C2['Date'] = df_C2['Date'].astype(str)\n",
    "df_C2['Date']= pd.to_datetime(df_C2['Date'], format=\"%Y-%m-%d\")\n",
    "df_C2['Time']= pd.to_datetime(df_C2['Time'], format=\"%H:%M\")\n",
    "# 合併成DateTime欄位\n",
    "df_C2['Datetime_str'] = df_C2['Date'].dt.strftime('%Y-%m-%d')+ ' ' +df_C2['Time'].dt.strftime('%H:%M')\n",
    "df_C2['Datetime'] = pd.to_datetime(df_C2['Datetime_str'], format=\"%Y-%m-%d %H:%M\",errors ='coerce')\n",
    "df_C2['Time']= df_C2['Time'].dt.time\n",
    "df_C2 = df_C2.drop(['Datetime_str'], axis=1)\n",
    "df_C2.set_index('Datetime')\n",
    "# df_C2.info()\n",
    "# df_C2.head()"
   ]
  },
  {
   "cell_type": "code",
   "execution_count": 9,
   "metadata": {},
   "outputs": [
    {
     "data": {
      "image/png": "[encoded data removed]",
      "text/plain": [
       "<Figure size 432x288 with 1 Axes>"
      ]
     },
     "metadata": {
      "needs_background": "light"
     },
     "output_type": "display_data"
    }
   ],
   "source": [
    "# 先看一下導電度跟濁度的相關性\n",
    "plt.scatter(df_C2['Turbidity'],df_C2['Conductivity'])\n",
    "plt.show()"
   ]
  },
  {
   "cell_type": "code",
   "execution_count": 10,
   "metadata": {},
   "outputs": [
    {
     "name": "stdout",
     "output_type": "stream",
     "text": [
      "共有697筆資料\n"
     ]
    },
    {
     "data": {
      "text/plain": [
       "(737383.5145833333, 737385.9965277778)"
      ]
     },
     "execution_count": 10,
     "metadata": {},
     "output_type": "execute_result"
    },
    {
     "data": {
      "image/png": "[encoded data removed]",
      "text/plain": [
       "<Figure size 432x288 with 2 Axes>"
      ]
     },
     "metadata": {
      "needs_background": "light"
     },
     "output_type": "display_data"
    }
   ],
   "source": [
    "# 建立時間變化的曲線\n",
    "# 先算出有多少資料\n",
    "total = df_C2.shape[0]-1\n",
    "print(\"共有{}筆資料\".format(total))\n",
    "\n",
    "# 畫成時間變化的曲線\n",
    "fig, ax1 = plt.subplots()\n",
    "# 设置ax2的坐标轴与ax1共用x轴\n",
    "ax2 = ax1.twinx()\n",
    "\n",
    "L1 = ax1.scatter(df_C2['Datetime'],df_C2['Conductivity'],label='Conductivity', marker=\"o\", color='g')\n",
    "L2 = ax2.scatter(df_C2['Datetime'],df_C2['Turbidity'],label='Turbidity', marker=\"x\", color='r')\n",
    "\n",
    "ax1.set_ylabel('Conductivity', color='g')\n",
    "ax2.set_ylabel('Turbidity', color='r')\n",
    "\n",
    "plt.legend([L1,L2],[L1.get_label(),L2.get_label()])\n",
    "\n",
    "fig.autofmt_xdate()\n",
    "plt.xlim(df_C2['Datetime'][0],df_C2['Datetime'][total])"
   ]
  },
  {
   "cell_type": "code",
   "execution_count": 11,
   "metadata": {},
   "outputs": [
    {
     "data": {
      "text/plain": [
       "(737383.5145833333, 737385.9965277778)"
      ]
     },
     "execution_count": 11,
     "metadata": {},
     "output_type": "execute_result"
    },
    {
     "data": {
      "image/png": "[encoded data removed]",
      "text/plain": [
       "<Figure size 432x288 with 1 Axes>"
      ]
     },
     "metadata": {
      "needs_background": "light"
     },
     "output_type": "display_data"
    }
   ],
   "source": [
    "# 把C1 跟 C2的資料放在一起比對一下：濁度\n",
    "fig = plt.figure(1)\n",
    "plt.scatter(df_C2['Datetime'],df_C2['Conductivity'],label='C2')\n",
    "plt.scatter(df_C1['Datetime'],df_C1['Conductivity'],label='C1')\n",
    "fig.autofmt_xdate()\n",
    "plt.xlim(df_C2['Datetime'][0],df_C2['Datetime'][total])"
   ]
  },
  {
   "cell_type": "code",
   "execution_count": 12,
   "metadata": {},
   "outputs": [
    {
     "data": {
      "text/plain": [
       "(737383.5145833333, 737385.9965277778)"
      ]
     },
     "execution_count": 12,
     "metadata": {},
     "output_type": "execute_result"
    },
    {
     "data": {
      "image/png": "[encoded data removed]",
      "text/plain": [
       "<Figure size 432x288 with 1 Axes>"
      ]
     },
     "metadata": {
      "needs_background": "light"
     },
     "output_type": "display_data"
    }
   ],
   "source": [
    "# 把C1 跟 C2的資料放在一起比對一下：導電度\n",
    "fig = plt.figure(1)\n",
    "plt.scatter(df_C2['Datetime'],df_C2['Turbidity'],label='C2')\n",
    "plt.scatter(df_C1['Datetime'],df_C1['Turbidity'],label='C1')\n",
    "fig.autofmt_xdate()\n",
    "plt.xlim(df_C2['Datetime'][0],df_C2['Datetime'][total])"
   ]
  }
 ],
 "metadata": {
  "kernelspec": {
   "display_name": "Python 3",
   "language": "python",
   "name": "python3"
  },
  "language_info": {
   "codemirror_mode": {
    "name": "ipython",
    "version": 3
   },
   "file_extension": ".py",
   "mimetype": "text/x-python",
   "name": "python",
   "nbconvert_exporter": "python",
   "pygments_lexer": "ipython3",
   "version": "3.7.3"
  }
 },
 "nbformat": 4,
 "nbformat_minor": 2
}
